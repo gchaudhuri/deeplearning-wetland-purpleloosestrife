{
 "cells": [
  {
   "cell_type": "code",
   "execution_count": 1,
   "id": "f9ef3cad",
   "metadata": {},
   "outputs": [
    {
     "name": "stderr",
     "output_type": "stream",
     "text": [
      "2021-07-28 15:33:41.732337: I tensorflow/stream_executor/platform/default/dso_loader.cc:48] Successfully opened dynamic library libcudart.so.11.0\n",
      "2021-07-28 15:33:43.259943: I tensorflow/stream_executor/platform/default/dso_loader.cc:48] Successfully opened dynamic library libcuda.so.1\n",
      "2021-07-28 15:33:45.474614: I tensorflow/stream_executor/cuda/cuda_gpu_executor.cc:982] successful NUMA node read from SysFS had negative value (-1), but there must be at least one NUMA node, so returning NUMA node zero\n",
      "2021-07-28 15:33:45.475734: I tensorflow/core/common_runtime/gpu/gpu_device.cc:1716] Found device 0 with properties: \n",
      "pciBusID: 0000:00:04.0 name: Tesla K80 computeCapability: 3.7\n",
      "coreClock: 0.8235GHz coreCount: 13 deviceMemorySize: 11.17GiB deviceMemoryBandwidth: 223.96GiB/s\n",
      "2021-07-28 15:33:45.475822: I tensorflow/stream_executor/platform/default/dso_loader.cc:48] Successfully opened dynamic library libcudart.so.11.0\n",
      "2021-07-28 15:33:45.537978: I tensorflow/stream_executor/platform/default/dso_loader.cc:48] Successfully opened dynamic library libcublas.so.11\n",
      "2021-07-28 15:33:45.572809: I tensorflow/stream_executor/platform/default/dso_loader.cc:48] Successfully opened dynamic library libcufft.so.10\n",
      "2021-07-28 15:33:45.586944: I tensorflow/stream_executor/platform/default/dso_loader.cc:48] Successfully opened dynamic library libcurand.so.10\n",
      "2021-07-28 15:33:45.629654: I tensorflow/stream_executor/platform/default/dso_loader.cc:48] Successfully opened dynamic library libcusolver.so.10\n",
      "2021-07-28 15:33:45.646896: I tensorflow/stream_executor/platform/default/dso_loader.cc:48] Successfully opened dynamic library libcusparse.so.11\n",
      "2021-07-28 15:33:45.652563: I tensorflow/stream_executor/platform/default/dso_loader.cc:48] Successfully opened dynamic library libcudnn.so.8\n",
      "2021-07-28 15:33:45.652806: I tensorflow/stream_executor/cuda/cuda_gpu_executor.cc:982] successful NUMA node read from SysFS had negative value (-1), but there must be at least one NUMA node, so returning NUMA node zero\n",
      "2021-07-28 15:33:45.653678: I tensorflow/stream_executor/cuda/cuda_gpu_executor.cc:982] successful NUMA node read from SysFS had negative value (-1), but there must be at least one NUMA node, so returning NUMA node zero\n",
      "2021-07-28 15:33:45.654382: I tensorflow/core/common_runtime/gpu/gpu_device.cc:1858] Adding visible gpu devices: 0\n"
     ]
    }
   ],
   "source": [
    "import tensorflow as tf\n",
    "gpus = tf.config.experimental.list_physical_devices('GPU')\n",
    "for gpu in gpus:\n",
    "    tf.config.experimental.set_memory_growth(gpu, True)"
   ]
  },
  {
   "cell_type": "code",
   "execution_count": 2,
   "id": "9465d5ba",
   "metadata": {},
   "outputs": [
    {
     "name": "stdout",
     "output_type": "stream",
     "text": [
      "WARNING:tensorflow:From /tmp/ipykernel_3353/1150452805.py:2: is_gpu_available (from tensorflow.python.framework.test_util) is deprecated and will be removed in a future version.\n",
      "Instructions for updating:\n",
      "Use `tf.config.list_physical_devices('GPU')` instead.\n"
     ]
    },
    {
     "name": "stderr",
     "output_type": "stream",
     "text": [
      "2021-07-28 15:33:45.693360: I tensorflow/core/platform/profile_utils/cpu_utils.cc:104] CPU Frequency: 2299995000 Hz\n"
     ]
    },
    {
     "data": {
      "text/plain": [
       "True"
      ]
     },
     "execution_count": 2,
     "metadata": {},
     "output_type": "execute_result"
    },
    {
     "name": "stderr",
     "output_type": "stream",
     "text": [
      "2021-07-28 15:33:45.694439: I tensorflow/compiler/xla/service/service.cc:168] XLA service 0x5603394c3cf0 initialized for platform Host (this does not guarantee that XLA will be used). Devices:\n",
      "2021-07-28 15:33:45.694465: I tensorflow/compiler/xla/service/service.cc:176]   StreamExecutor device (0): Host, Default Version\n",
      "2021-07-28 15:33:45.940685: I tensorflow/stream_executor/cuda/cuda_gpu_executor.cc:982] successful NUMA node read from SysFS had negative value (-1), but there must be at least one NUMA node, so returning NUMA node zero\n",
      "2021-07-28 15:33:45.941632: I tensorflow/compiler/xla/service/service.cc:168] XLA service 0x56033b030760 initialized for platform CUDA (this does not guarantee that XLA will be used). Devices:\n",
      "2021-07-28 15:33:45.941662: I tensorflow/compiler/xla/service/service.cc:176]   StreamExecutor device (0): Tesla K80, Compute Capability 3.7\n",
      "2021-07-28 15:33:45.943270: I tensorflow/stream_executor/cuda/cuda_gpu_executor.cc:982] successful NUMA node read from SysFS had negative value (-1), but there must be at least one NUMA node, so returning NUMA node zero\n",
      "2021-07-28 15:33:45.944130: I tensorflow/core/common_runtime/gpu/gpu_device.cc:1716] Found device 0 with properties: \n",
      "pciBusID: 0000:00:04.0 name: Tesla K80 computeCapability: 3.7\n",
      "coreClock: 0.8235GHz coreCount: 13 deviceMemorySize: 11.17GiB deviceMemoryBandwidth: 223.96GiB/s\n",
      "2021-07-28 15:33:45.944204: I tensorflow/stream_executor/platform/default/dso_loader.cc:48] Successfully opened dynamic library libcudart.so.11.0\n",
      "2021-07-28 15:33:45.944239: I tensorflow/stream_executor/platform/default/dso_loader.cc:48] Successfully opened dynamic library libcublas.so.11\n",
      "2021-07-28 15:33:45.944280: I tensorflow/stream_executor/platform/default/dso_loader.cc:48] Successfully opened dynamic library libcufft.so.10\n",
      "2021-07-28 15:33:45.944305: I tensorflow/stream_executor/platform/default/dso_loader.cc:48] Successfully opened dynamic library libcurand.so.10\n",
      "2021-07-28 15:33:45.944329: I tensorflow/stream_executor/platform/default/dso_loader.cc:48] Successfully opened dynamic library libcusolver.so.10\n",
      "2021-07-28 15:33:45.944369: I tensorflow/stream_executor/platform/default/dso_loader.cc:48] Successfully opened dynamic library libcusparse.so.11\n",
      "2021-07-28 15:33:45.944403: I tensorflow/stream_executor/platform/default/dso_loader.cc:48] Successfully opened dynamic library libcudnn.so.8\n",
      "2021-07-28 15:33:45.944502: I tensorflow/stream_executor/cuda/cuda_gpu_executor.cc:982] successful NUMA node read from SysFS had negative value (-1), but there must be at least one NUMA node, so returning NUMA node zero\n",
      "2021-07-28 15:33:45.945254: I tensorflow/stream_executor/cuda/cuda_gpu_executor.cc:982] successful NUMA node read from SysFS had negative value (-1), but there must be at least one NUMA node, so returning NUMA node zero\n",
      "2021-07-28 15:33:45.945929: I tensorflow/core/common_runtime/gpu/gpu_device.cc:1858] Adding visible gpu devices: 0\n",
      "2021-07-28 15:33:45.947568: I tensorflow/stream_executor/platform/default/dso_loader.cc:48] Successfully opened dynamic library libcudart.so.11.0\n",
      "2021-07-28 15:33:49.462954: I tensorflow/core/common_runtime/gpu/gpu_device.cc:1257] Device interconnect StreamExecutor with strength 1 edge matrix:\n",
      "2021-07-28 15:33:49.463012: I tensorflow/core/common_runtime/gpu/gpu_device.cc:1263]      0 \n",
      "2021-07-28 15:33:49.463030: I tensorflow/core/common_runtime/gpu/gpu_device.cc:1276] 0:   N \n",
      "2021-07-28 15:33:49.466711: I tensorflow/stream_executor/cuda/cuda_gpu_executor.cc:982] successful NUMA node read from SysFS had negative value (-1), but there must be at least one NUMA node, so returning NUMA node zero\n",
      "2021-07-28 15:33:49.467565: I tensorflow/stream_executor/cuda/cuda_gpu_executor.cc:982] successful NUMA node read from SysFS had negative value (-1), but there must be at least one NUMA node, so returning NUMA node zero\n",
      "2021-07-28 15:33:49.468358: I tensorflow/core/common_runtime/gpu/gpu_device.cc:1402] Created TensorFlow device (/device:GPU:0 with 10638 MB memory) -> physical GPU (device: 0, name: Tesla K80, pci bus id: 0000:00:04.0, compute capability: 3.7)\n"
     ]
    }
   ],
   "source": [
    "tf.test.is_gpu_available(\n",
    "    cuda_only=False, min_cuda_compute_capability=None)"
   ]
  },
  {
   "cell_type": "code",
   "execution_count": 3,
   "id": "728f3b2f",
   "metadata": {},
   "outputs": [
    {
     "name": "stdout",
     "output_type": "stream",
     "text": [
      "Num GPUs Available:  1\n"
     ]
    }
   ],
   "source": [
    "import tensorflow as tf\n",
    "print(\"Num GPUs Available: \", len(tf.config.list_physical_devices('GPU')))"
   ]
  },
  {
   "cell_type": "code",
   "execution_count": 4,
   "id": "f4557a3f",
   "metadata": {},
   "outputs": [
    {
     "name": "stdout",
     "output_type": "stream",
     "text": [
      "1 Physical GPUs, 1 Logical GPU\n"
     ]
    },
    {
     "name": "stderr",
     "output_type": "stream",
     "text": [
      "2021-07-28 15:33:49.496335: I tensorflow/stream_executor/cuda/cuda_gpu_executor.cc:982] successful NUMA node read from SysFS had negative value (-1), but there must be at least one NUMA node, so returning NUMA node zero\n",
      "2021-07-28 15:33:49.497141: I tensorflow/core/common_runtime/gpu/gpu_device.cc:1716] Found device 0 with properties: \n",
      "pciBusID: 0000:00:04.0 name: Tesla K80 computeCapability: 3.7\n",
      "coreClock: 0.8235GHz coreCount: 13 deviceMemorySize: 11.17GiB deviceMemoryBandwidth: 223.96GiB/s\n",
      "2021-07-28 15:33:49.497230: I tensorflow/stream_executor/platform/default/dso_loader.cc:48] Successfully opened dynamic library libcudart.so.11.0\n",
      "2021-07-28 15:33:49.497270: I tensorflow/stream_executor/platform/default/dso_loader.cc:48] Successfully opened dynamic library libcublas.so.11\n",
      "2021-07-28 15:33:49.497322: I tensorflow/stream_executor/platform/default/dso_loader.cc:48] Successfully opened dynamic library libcufft.so.10\n",
      "2021-07-28 15:33:49.497373: I tensorflow/stream_executor/platform/default/dso_loader.cc:48] Successfully opened dynamic library libcurand.so.10\n",
      "2021-07-28 15:33:49.497419: I tensorflow/stream_executor/platform/default/dso_loader.cc:48] Successfully opened dynamic library libcusolver.so.10\n",
      "2021-07-28 15:33:49.497452: I tensorflow/stream_executor/platform/default/dso_loader.cc:48] Successfully opened dynamic library libcusparse.so.11\n",
      "2021-07-28 15:33:49.497481: I tensorflow/stream_executor/platform/default/dso_loader.cc:48] Successfully opened dynamic library libcudnn.so.8\n",
      "2021-07-28 15:33:49.497564: I tensorflow/stream_executor/cuda/cuda_gpu_executor.cc:982] successful NUMA node read from SysFS had negative value (-1), but there must be at least one NUMA node, so returning NUMA node zero\n",
      "2021-07-28 15:33:49.498332: I tensorflow/stream_executor/cuda/cuda_gpu_executor.cc:982] successful NUMA node read from SysFS had negative value (-1), but there must be at least one NUMA node, so returning NUMA node zero\n",
      "2021-07-28 15:33:49.499110: I tensorflow/core/common_runtime/gpu/gpu_device.cc:1858] Adding visible gpu devices: 0\n",
      "2021-07-28 15:33:49.499153: I tensorflow/core/common_runtime/gpu/gpu_device.cc:1257] Device interconnect StreamExecutor with strength 1 edge matrix:\n",
      "2021-07-28 15:33:49.499162: I tensorflow/core/common_runtime/gpu/gpu_device.cc:1263]      0 \n",
      "2021-07-28 15:33:49.499169: I tensorflow/core/common_runtime/gpu/gpu_device.cc:1276] 0:   N \n",
      "2021-07-28 15:33:49.499295: I tensorflow/stream_executor/cuda/cuda_gpu_executor.cc:982] successful NUMA node read from SysFS had negative value (-1), but there must be at least one NUMA node, so returning NUMA node zero\n",
      "2021-07-28 15:33:49.500078: I tensorflow/stream_executor/cuda/cuda_gpu_executor.cc:982] successful NUMA node read from SysFS had negative value (-1), but there must be at least one NUMA node, so returning NUMA node zero\n",
      "2021-07-28 15:33:49.500835: I tensorflow/core/common_runtime/gpu/gpu_device.cc:1402] Created TensorFlow device (/job:localhost/replica:0/task:0/device:GPU:0 with 10638 MB memory) -> physical GPU (device: 0, name: Tesla K80, pci bus id: 0000:00:04.0, compute capability: 3.7)\n"
     ]
    }
   ],
   "source": [
    "gpus = tf.config.list_physical_devices('GPU')\n",
    "if gpus:\n",
    "  # Restrict TensorFlow to only use the first GPU\n",
    "  try:\n",
    "    tf.config.experimental.set_visible_devices(gpus[0], 'GPU')\n",
    "    logical_gpus = tf.config.experimental.list_logical_devices('GPU')\n",
    "    print(len(gpus), \"Physical GPUs,\", len(logical_gpus), \"Logical GPU\")\n",
    "  except RuntimeError as e:\n",
    "    # Visible devices must be set before GPUs have been initialized\n",
    "    print(e)"
   ]
  },
  {
   "cell_type": "code",
   "execution_count": 86,
   "id": "d37f0931",
   "metadata": {},
   "outputs": [
    {
     "name": "stdout",
     "output_type": "stream",
     "text": [
      "Requirement already satisfied: segmentation-models in /opt/conda/lib/python3.7/site-packages (1.0.1)\n",
      "Requirement already satisfied: efficientnet==1.0.0 in /opt/conda/lib/python3.7/site-packages (from segmentation-models) (1.0.0)\n",
      "Requirement already satisfied: keras-applications<=1.0.8,>=1.0.7 in /opt/conda/lib/python3.7/site-packages (from segmentation-models) (1.0.8)\n",
      "Requirement already satisfied: image-classifiers==1.0.0 in /opt/conda/lib/python3.7/site-packages (from segmentation-models) (1.0.0)\n",
      "Requirement already satisfied: scikit-image in /opt/conda/lib/python3.7/site-packages (from efficientnet==1.0.0->segmentation-models) (0.18.2)\n",
      "Requirement already satisfied: numpy>=1.9.1 in /opt/conda/lib/python3.7/site-packages (from keras-applications<=1.0.8,>=1.0.7->segmentation-models) (1.19.5)\n",
      "Requirement already satisfied: h5py in /opt/conda/lib/python3.7/site-packages (from keras-applications<=1.0.8,>=1.0.7->segmentation-models) (2.10.0)\n",
      "Requirement already satisfied: six in /opt/conda/lib/python3.7/site-packages (from h5py->keras-applications<=1.0.8,>=1.0.7->segmentation-models) (1.16.0)\n",
      "Requirement already satisfied: PyWavelets>=1.1.1 in /opt/conda/lib/python3.7/site-packages (from scikit-image->efficientnet==1.0.0->segmentation-models) (1.1.1)\n",
      "Requirement already satisfied: tifffile>=2019.7.26 in /opt/conda/lib/python3.7/site-packages (from scikit-image->efficientnet==1.0.0->segmentation-models) (2021.7.2)\n",
      "Requirement already satisfied: imageio>=2.3.0 in /opt/conda/lib/python3.7/site-packages (from scikit-image->efficientnet==1.0.0->segmentation-models) (2.9.0)\n",
      "Requirement already satisfied: scipy>=1.0.1 in /opt/conda/lib/python3.7/site-packages (from scikit-image->efficientnet==1.0.0->segmentation-models) (1.7.0)\n",
      "Requirement already satisfied: pillow!=7.1.0,!=7.1.1,>=4.3.0 in /opt/conda/lib/python3.7/site-packages (from scikit-image->efficientnet==1.0.0->segmentation-models) (8.3.1)\n",
      "Requirement already satisfied: matplotlib!=3.0.0,>=2.0.0 in /opt/conda/lib/python3.7/site-packages (from scikit-image->efficientnet==1.0.0->segmentation-models) (3.4.2)\n",
      "Requirement already satisfied: networkx>=2.0 in /opt/conda/lib/python3.7/site-packages (from scikit-image->efficientnet==1.0.0->segmentation-models) (2.5)\n",
      "Requirement already satisfied: kiwisolver>=1.0.1 in /opt/conda/lib/python3.7/site-packages (from matplotlib!=3.0.0,>=2.0.0->scikit-image->efficientnet==1.0.0->segmentation-models) (1.3.1)\n",
      "Requirement already satisfied: cycler>=0.10 in /opt/conda/lib/python3.7/site-packages (from matplotlib!=3.0.0,>=2.0.0->scikit-image->efficientnet==1.0.0->segmentation-models) (0.10.0)\n",
      "Requirement already satisfied: pyparsing>=2.2.1 in /opt/conda/lib/python3.7/site-packages (from matplotlib!=3.0.0,>=2.0.0->scikit-image->efficientnet==1.0.0->segmentation-models) (2.4.7)\n",
      "Requirement already satisfied: python-dateutil>=2.7 in /opt/conda/lib/python3.7/site-packages (from matplotlib!=3.0.0,>=2.0.0->scikit-image->efficientnet==1.0.0->segmentation-models) (2.8.1)\n",
      "Requirement already satisfied: decorator>=4.3.0 in /opt/conda/lib/python3.7/site-packages (from networkx>=2.0->scikit-image->efficientnet==1.0.0->segmentation-models) (5.0.9)\n"
     ]
    }
   ],
   "source": [
    "!pip install segmentation-models"
   ]
  },
  {
   "cell_type": "code",
   "execution_count": 87,
   "id": "a77588fb",
   "metadata": {},
   "outputs": [],
   "source": [
    "import tensorflow as tf\n",
    "from tensorflow import keras \n",
    "\n",
    "import segmentation_models as sm\n",
    "sm.set_framework('tf.keras')\n",
    "sm.framework()\n",
    "\n",
    "import glob\n",
    "import cv2\n",
    "import os\n",
    "import numpy as np\n",
    "from matplotlib import pyplot as plt\n"
   ]
  },
  {
   "cell_type": "code",
   "execution_count": 88,
   "id": "5db8d5a6",
   "metadata": {},
   "outputs": [],
   "source": [
    "from keras.utils import conv_utils\n",
    "from keras.backend import normalize_data_format\n",
    "keras.backend.set_image_data_format('channels_last')\n",
    "from keras.metrics import MeanIoU"
   ]
  },
  {
   "cell_type": "code",
   "execution_count": 8,
   "id": "7b984cb2",
   "metadata": {},
   "outputs": [
    {
     "name": "stdout",
     "output_type": "stream",
     "text": [
      "README.md                    img_process.ipynb  test_run2.ipynb\n",
      "_image_classification.ipynb  test_run.ipynb     transfer_learning.ipynb\n"
     ]
    }
   ],
   "source": [
    "ls"
   ]
  },
  {
   "cell_type": "code",
   "execution_count": null,
   "id": "a0ebeb17",
   "metadata": {},
   "outputs": [],
   "source": [
    "# import zipfile\n",
    "!unzip '/home/jupyter/prpls-dl/sub_reg_train128.zip' -d '/tmp'\n",
    "!unzip '/home/jupyter/prpls-dl/sub_reg_label128.zip' -d '/tmp'"
   ]
  },
  {
   "cell_type": "code",
   "execution_count": 66,
   "id": "c70871f5",
   "metadata": {},
   "outputs": [
    {
     "name": "stdout",
     "output_type": "stream",
     "text": [
      "Number of training images: 8512\n",
      "Number of label images: 8512\n"
     ]
    }
   ],
   "source": [
    "import fnmatch\n",
    "import os\n",
    "\n",
    "train_dirpath= '/tmp/sub_reg_train128'\n",
    "print('Number of training images:', len(fnmatch.filter(os.listdir(train_dirpath), '*.tif')))\n",
    "\n",
    "label_dirpath= '/tmp/sub_reg_label128'\n",
    "print('Number of label images:', len(fnmatch.filter(os.listdir(label_dirpath), '*.tif')))"
   ]
  },
  {
   "cell_type": "code",
   "execution_count": 67,
   "id": "18e248de",
   "metadata": {},
   "outputs": [],
   "source": [
    "train_list=os.listdir('/tmp/sub_reg_train128')\n",
    "mask_list=os.listdir('/tmp/sub_reg_label128')\n",
    "mask = []\n",
    "img = []\n",
    "for filename in train_list:\n",
    "    if filename.endswith('/tmp/sub_reg_train128/*.tif'):\n",
    "        img.append(filename)\n",
    "\n",
    "for filename in mask_list:\n",
    "    if filename.endswith('/tmp/sub_reg_label128/*.tif'):\n",
    "        mask.append(filename)"
   ]
  },
  {
   "cell_type": "code",
   "execution_count": 68,
   "id": "c279a144",
   "metadata": {},
   "outputs": [],
   "source": [
    "img.sort()\n",
    "mask.sort()\n",
    "img = img[:8512]\n",
    "masks = mask[:8512]"
   ]
  },
  {
   "cell_type": "code",
   "execution_count": 69,
   "id": "d4a942d2",
   "metadata": {},
   "outputs": [],
   "source": [
    "y = np.zeros((8512, 128, 128), dtype=np.float32)\n",
    "X = np.zeros((8512, 128, 128, 3), dtype=np.float32)"
   ]
  },
  {
   "cell_type": "code",
   "execution_count": 80,
   "id": "4c894cb9",
   "metadata": {},
   "outputs": [],
   "source": [
    "for file in img:\n",
    "    index = img.index(i)\n",
    "    dir_img = os.path.join(train_dirpath, i)\n",
    "    img = Image.open(dir_img)\n",
    "    X = img.append(img)\n",
    "    \n",
    "X = np.array(X)\n",
    "    \n",
    "for file in masks:\n",
    "    dir_mask = os.path.join(label_dirpath, mask)\n",
    "    mask_img = cv2.imread(dir_mask)\n",
    "    mask_img = (mask!=2)*1.0\n",
    "    mask_img = cv2.resize(mask, (128, 128))\n",
    "    mask_img = 1.0*(mask[:,:,0]>0.2)\n",
    "    y = mask.append(mask_img)\n",
    "    \n",
    "y = np.array(y)"
   ]
  },
  {
   "cell_type": "code",
   "execution_count": 93,
   "id": "8e98436a",
   "metadata": {},
   "outputs": [
    {
     "name": "stdout",
     "output_type": "stream",
     "text": [
      "(8512, 128, 128, 3)\n",
      "(8512, 128, 128)\n"
     ]
    }
   ],
   "source": [
    "print(X.shape)\n",
    "print(y.shape)"
   ]
  },
  {
   "cell_type": "code",
   "execution_count": 94,
   "id": "69b715f2",
   "metadata": {},
   "outputs": [],
   "source": [
    "from sklearn.model_selection import train_test_split\n",
    "X_train, X_test, y_train, y_test = train_test_split(X, y, test_size = 0.25, random_state=0)\n",
    "\n",
    "BACKBONE = 'resnet34'\n",
    "preprocess_input = sm.get_preprocessing(BACKBONE)\n",
    "X_train = preprocess_input(X_train)\n",
    "X_test = preprocess_input(X_test)"
   ]
  },
  {
   "cell_type": "code",
   "execution_count": 95,
   "id": "5d715d9f",
   "metadata": {},
   "outputs": [],
   "source": [
    "import tensorflow as tf\n",
    "from tensorflow import keras \n",
    "\n",
    "import segmentation_models as sm\n",
    "sm.set_framework('tf.keras')\n",
    "sm.framework()\n",
    "\n",
    "from sklearn.model_selection import train_test_split\n",
    "import tensorflow as tf\n",
    "from keras.optimizers import Adam\n",
    "from tensorflow.keras.losses import binary_crossentropy\n",
    "from tensorflow.keras.models import model_from_json\n",
    "\n",
    "from tensorflow.keras.layers import Input, Conv2D, Reshape\n",
    "from tensorflow.keras.models import Model"
   ]
  },
  {
   "cell_type": "code",
   "execution_count": 96,
   "id": "675d9bf7",
   "metadata": {},
   "outputs": [
    {
     "name": "stdout",
     "output_type": "stream",
     "text": [
      "Class values in the dataset are ...  [0.]\n"
     ]
    }
   ],
   "source": [
    "print(\"Class values in the dataset are ... \", np.unique(y_train))"
   ]
  },
  {
   "cell_type": "code",
   "execution_count": 101,
   "id": "06dd665e",
   "metadata": {},
   "outputs": [
    {
     "name": "stdout",
     "output_type": "stream",
     "text": [
      "Class values in the dataset are ...  [0. 1.]\n"
     ]
    }
   ],
   "source": [
    "from tensorflow.keras.utils import to_categorical\n",
    "\n",
    "n_classes=2\n",
    "train_masks_cat = to_categorical(y_train, num_classes=n_classes)\n",
    "y_train_cat = train_masks_cat.reshape((y_train.shape[0], y_train.shape[1], y_train.shape[2], n_classes))\n",
    "\n",
    "test_masks_cat = to_categorical(y_test, num_classes=n_classes)\n",
    "y_test_cat = test_masks_cat.reshape((y_test.shape[0], y_test.shape[1], y_test.shape[2], n_classes))\n",
    "print(\"Class values in the dataset are ... \", np.unique(y_train_cat))"
   ]
  },
  {
   "cell_type": "code",
   "execution_count": 102,
   "id": "f2626b62",
   "metadata": {},
   "outputs": [],
   "source": [
    "import tensorflow as tf\n",
    "from tensorflow import keras \n",
    "\n",
    "import segmentation_models as sm\n",
    "sm.set_framework('tf.keras')\n",
    "sm.framework()\n",
    "\n",
    "from sklearn.model_selection import train_test_split\n",
    "import tensorflow as tf\n",
    "from keras.optimizers import Adam\n",
    "from tensorflow.keras.losses import binary_crossentropy\n",
    "from tensorflow.keras.models import model_from_json\n",
    "\n",
    "from tensorflow.keras.layers import Input, Conv2D, Reshape\n",
    "from tensorflow.keras.models import Model\n",
    "\n",
    "from keras.layers import Reshape\n",
    "N = X_train.shape[-1]\n",
    "\n",
    "model = sm.Unet(backbone_name='resnet34', encoder_weights=None, input_shape=(None, None, N))"
   ]
  },
  {
   "cell_type": "code",
   "execution_count": null,
   "id": "45f6b3c1",
   "metadata": {},
   "outputs": [
    {
     "name": "stdout",
     "output_type": "stream",
     "text": [
      "Epoch 1/100\n",
      "200/200 [==============================] - ETA: 0s - loss: 0.5221 - iou_score: 0.4779WARNING:tensorflow:Callbacks method `on_test_batch_end` is slow compared to the batch time (batch time: 0.0136s vs `on_test_batch_end` time: 0.0756s). Check your callbacks.\n",
      "200/200 [==============================] - 65s 325ms/step - loss: 0.5221 - iou_score: 0.4779 - val_loss: 0.5217 - val_iou_score: 0.4783\n",
      "Epoch 2/100\n",
      "200/200 [==============================] - 64s 321ms/step - loss: 0.5213 - iou_score: 0.4787 - val_loss: 0.5209 - val_iou_score: 0.4791\n",
      "Epoch 3/100\n",
      "200/200 [==============================] - 64s 320ms/step - loss: 0.5205 - iou_score: 0.4795 - val_loss: 0.5201 - val_iou_score: 0.4799\n",
      "Epoch 4/100\n",
      "200/200 [==============================] - 64s 321ms/step - loss: 0.5197 - iou_score: 0.4803 - val_loss: 0.5193 - val_iou_score: 0.4807\n",
      "Epoch 5/100\n",
      "200/200 [==============================] - 64s 320ms/step - loss: 0.5190 - iou_score: 0.4810 - val_loss: 0.5187 - val_iou_score: 0.4813\n",
      "Epoch 6/100\n",
      "200/200 [==============================] - 64s 320ms/step - loss: 0.5184 - iou_score: 0.4816 - val_loss: 0.5181 - val_iou_score: 0.4819\n",
      "Epoch 7/100\n",
      "200/200 [==============================] - 64s 321ms/step - loss: 0.5178 - iou_score: 0.4822 - val_loss: 0.5175 - val_iou_score: 0.4825\n",
      "Epoch 8/100\n",
      "200/200 [==============================] - 64s 321ms/step - loss: 0.5172 - iou_score: 0.4828 - val_loss: 0.5169 - val_iou_score: 0.4831\n",
      "Epoch 9/100\n",
      "200/200 [==============================] - 64s 321ms/step - loss: 0.5167 - iou_score: 0.4833 - val_loss: 0.5164 - val_iou_score: 0.4836\n",
      "Epoch 10/100\n",
      "200/200 [==============================] - 64s 320ms/step - loss: 0.5162 - iou_score: 0.4838 - val_loss: 0.5160 - val_iou_score: 0.4840\n",
      "Epoch 11/100\n",
      "200/200 [==============================] - 64s 320ms/step - loss: 0.5157 - iou_score: 0.4843 - val_loss: 0.5154 - val_iou_score: 0.4846\n",
      "Epoch 12/100\n",
      "200/200 [==============================] - 64s 321ms/step - loss: 0.5152 - iou_score: 0.4848 - val_loss: 0.5150 - val_iou_score: 0.4850\n",
      "Epoch 13/100\n",
      "200/200 [==============================] - 64s 320ms/step - loss: 0.5148 - iou_score: 0.4852 - val_loss: 0.5146 - val_iou_score: 0.4854\n",
      "Epoch 14/100\n",
      "200/200 [==============================] - 64s 321ms/step - loss: 0.5144 - iou_score: 0.4856 - val_loss: 0.5142 - val_iou_score: 0.4858\n",
      "Epoch 15/100\n",
      "200/200 [==============================] - 64s 320ms/step - loss: 0.5140 - iou_score: 0.4860 - val_loss: 0.5139 - val_iou_score: 0.4861\n",
      "Epoch 16/100\n",
      "200/200 [==============================] - 64s 321ms/step - loss: 0.5137 - iou_score: 0.4863 - val_loss: 0.5135 - val_iou_score: 0.4865\n",
      "Epoch 17/100\n",
      "200/200 [==============================] - 64s 320ms/step - loss: 0.5133 - iou_score: 0.4867 - val_loss: 0.5132 - val_iou_score: 0.4868\n",
      "Epoch 18/100\n",
      "200/200 [==============================] - 64s 320ms/step - loss: 0.5130 - iou_score: 0.4870 - val_loss: 0.5128 - val_iou_score: 0.4872\n",
      "Epoch 19/100\n",
      "200/200 [==============================] - 64s 320ms/step - loss: 0.5127 - iou_score: 0.4873 - val_loss: 0.5125 - val_iou_score: 0.4875\n",
      "Epoch 20/100\n",
      "200/200 [==============================] - 64s 320ms/step - loss: 0.5124 - iou_score: 0.4876 - val_loss: 0.5123 - val_iou_score: 0.4877\n",
      "Epoch 21/100\n",
      "200/200 [==============================] - 64s 320ms/step - loss: 0.5121 - iou_score: 0.4879 - val_loss: 0.5120 - val_iou_score: 0.4880\n",
      "Epoch 22/100\n",
      "200/200 [==============================] - 64s 321ms/step - loss: 0.5118 - iou_score: 0.4882 - val_loss: 0.5117 - val_iou_score: 0.4883\n",
      "Epoch 23/100\n",
      "200/200 [==============================] - 64s 321ms/step - loss: 0.5116 - iou_score: 0.4884 - val_loss: 0.5114 - val_iou_score: 0.4886\n",
      "Epoch 24/100\n",
      "200/200 [==============================] - 64s 321ms/step - loss: 0.5113 - iou_score: 0.4887 - val_loss: 0.5112 - val_iou_score: 0.4888\n",
      "Epoch 25/100\n",
      "200/200 [==============================] - 64s 320ms/step - loss: 0.5111 - iou_score: 0.4889 - val_loss: 0.5110 - val_iou_score: 0.4890\n",
      "Epoch 26/100\n",
      "200/200 [==============================] - 64s 321ms/step - loss: 0.5108 - iou_score: 0.4892 - val_loss: 0.5107 - val_iou_score: 0.4893\n",
      "Epoch 27/100\n",
      "200/200 [==============================] - 64s 321ms/step - loss: 0.5106 - iou_score: 0.4894 - val_loss: 0.5105 - val_iou_score: 0.4895\n",
      "Epoch 28/100\n",
      "200/200 [==============================] - 64s 320ms/step - loss: 0.5104 - iou_score: 0.4896 - val_loss: 0.5103 - val_iou_score: 0.4897\n",
      "Epoch 29/100\n",
      "200/200 [==============================] - 64s 321ms/step - loss: 0.5102 - iou_score: 0.4898 - val_loss: 0.5101 - val_iou_score: 0.4899\n",
      "Epoch 30/100\n",
      "200/200 [==============================] - 64s 321ms/step - loss: 0.5100 - iou_score: 0.4900 - val_loss: 0.5099 - val_iou_score: 0.4901\n",
      "Epoch 31/100\n",
      "200/200 [==============================] - 64s 321ms/step - loss: 0.5098 - iou_score: 0.4902 - val_loss: 0.5097 - val_iou_score: 0.4903\n",
      "Epoch 32/100\n",
      "200/200 [==============================] - 64s 320ms/step - loss: 0.5096 - iou_score: 0.4904 - val_loss: 0.5096 - val_iou_score: 0.4904\n",
      "Epoch 33/100\n",
      "200/200 [==============================] - 64s 321ms/step - loss: 0.5095 - iou_score: 0.4905 - val_loss: 0.5094 - val_iou_score: 0.4906\n",
      "Epoch 34/100\n",
      "200/200 [==============================] - 64s 320ms/step - loss: 0.5093 - iou_score: 0.4907 - val_loss: 0.5092 - val_iou_score: 0.4908\n",
      "Epoch 35/100\n",
      "200/200 [==============================] - 64s 320ms/step - loss: 0.5091 - iou_score: 0.4909 - val_loss: 0.5091 - val_iou_score: 0.4909\n",
      "Epoch 36/100\n",
      "200/200 [==============================] - 64s 320ms/step - loss: 0.5090 - iou_score: 0.4910 - val_loss: 0.5089 - val_iou_score: 0.4911\n",
      "Epoch 37/100\n",
      "200/200 [==============================] - 64s 320ms/step - loss: 0.5088 - iou_score: 0.4912 - val_loss: 0.5087 - val_iou_score: 0.4913\n",
      "Epoch 38/100\n",
      "200/200 [==============================] - 64s 320ms/step - loss: 0.5087 - iou_score: 0.4913 - val_loss: 0.5086 - val_iou_score: 0.4914\n",
      "Epoch 39/100\n",
      "200/200 [==============================] - 64s 320ms/step - loss: 0.5085 - iou_score: 0.4915 - val_loss: 0.5085 - val_iou_score: 0.4915\n",
      "Epoch 40/100\n",
      "200/200 [==============================] - 64s 320ms/step - loss: 0.5084 - iou_score: 0.4916 - val_loss: 0.5083 - val_iou_score: 0.4917\n",
      "Epoch 41/100\n",
      "200/200 [==============================] - 64s 320ms/step - loss: 0.5083 - iou_score: 0.4917 - val_loss: 0.5082 - val_iou_score: 0.4918\n",
      "Epoch 42/100\n",
      "200/200 [==============================] - 64s 320ms/step - loss: 0.5081 - iou_score: 0.4919 - val_loss: 0.5081 - val_iou_score: 0.4919\n",
      "Epoch 43/100\n",
      "200/200 [==============================] - 64s 320ms/step - loss: 0.5080 - iou_score: 0.4920 - val_loss: 0.5079 - val_iou_score: 0.4921\n",
      "Epoch 44/100\n",
      "200/200 [==============================] - 64s 320ms/step - loss: 0.5079 - iou_score: 0.4921 - val_loss: 0.5078 - val_iou_score: 0.4922\n",
      "Epoch 45/100\n",
      "200/200 [==============================] - 64s 320ms/step - loss: 0.5078 - iou_score: 0.4922 - val_loss: 0.5077 - val_iou_score: 0.4923\n",
      "Epoch 46/100\n",
      "200/200 [==============================] - 64s 321ms/step - loss: 0.5076 - iou_score: 0.4924 - val_loss: 0.5076 - val_iou_score: 0.4924\n",
      "Epoch 47/100\n",
      "200/200 [==============================] - 64s 320ms/step - loss: 0.5075 - iou_score: 0.4925 - val_loss: 0.5075 - val_iou_score: 0.4925\n",
      "Epoch 48/100\n",
      "200/200 [==============================] - 64s 321ms/step - loss: 0.5074 - iou_score: 0.4926 - val_loss: 0.5074 - val_iou_score: 0.4926\n",
      "Epoch 49/100\n",
      "200/200 [==============================] - 64s 320ms/step - loss: 0.5073 - iou_score: 0.4927 - val_loss: 0.5072 - val_iou_score: 0.4928\n",
      "Epoch 50/100\n",
      "200/200 [==============================] - 64s 320ms/step - loss: 0.5072 - iou_score: 0.4928 - val_loss: 0.5071 - val_iou_score: 0.4929\n",
      "Epoch 51/100\n",
      "200/200 [==============================] - 64s 320ms/step - loss: 0.5071 - iou_score: 0.4929 - val_loss: 0.5071 - val_iou_score: 0.4929\n",
      "Epoch 52/100\n",
      "200/200 [==============================] - 64s 320ms/step - loss: 0.5070 - iou_score: 0.4930 - val_loss: 0.5070 - val_iou_score: 0.4930\n",
      "Epoch 53/100\n",
      "200/200 [==============================] - 64s 320ms/step - loss: 0.5069 - iou_score: 0.4931 - val_loss: 0.5069 - val_iou_score: 0.4931\n",
      "Epoch 54/100\n",
      "200/200 [==============================] - 64s 320ms/step - loss: 0.5068 - iou_score: 0.4932 - val_loss: 0.5068 - val_iou_score: 0.4932\n",
      "Epoch 55/100\n",
      "200/200 [==============================] - 64s 320ms/step - loss: 0.5068 - iou_score: 0.4932 - val_loss: 0.5067 - val_iou_score: 0.4933\n",
      "Epoch 56/100\n",
      "200/200 [==============================] - 64s 320ms/step - loss: 0.5067 - iou_score: 0.4933 - val_loss: 0.5066 - val_iou_score: 0.4934\n",
      "Epoch 57/100\n",
      "200/200 [==============================] - 64s 320ms/step - loss: 0.5066 - iou_score: 0.4934 - val_loss: 0.5066 - val_iou_score: 0.4934\n",
      "Epoch 58/100\n",
      "200/200 [==============================] - 64s 320ms/step - loss: 0.5065 - iou_score: 0.4935 - val_loss: 0.5065 - val_iou_score: 0.4935\n",
      "Epoch 59/100\n",
      "200/200 [==============================] - 64s 320ms/step - loss: 0.5064 - iou_score: 0.4936 - val_loss: 0.5064 - val_iou_score: 0.4936\n",
      "Epoch 60/100\n",
      "200/200 [==============================] - 64s 320ms/step - loss: 0.5063 - iou_score: 0.4937 - val_loss: 0.5063 - val_iou_score: 0.4937\n",
      "Epoch 61/100\n",
      "200/200 [==============================] - 64s 320ms/step - loss: 0.5063 - iou_score: 0.4937 - val_loss: 0.5062 - val_iou_score: 0.4938\n",
      "Epoch 62/100\n",
      "200/200 [==============================] - 64s 320ms/step - loss: 0.5062 - iou_score: 0.4938 - val_loss: 0.5062 - val_iou_score: 0.4938\n",
      "Epoch 63/100\n",
      "200/200 [==============================] - 64s 321ms/step - loss: 0.5061 - iou_score: 0.4939 - val_loss: 0.5060 - val_iou_score: 0.4940\n",
      "Epoch 64/100\n",
      "200/200 [==============================] - 64s 320ms/step - loss: 0.5060 - iou_score: 0.4940 - val_loss: 0.5060 - val_iou_score: 0.4940\n",
      "Epoch 65/100\n",
      "200/200 [==============================] - 64s 320ms/step - loss: 0.5060 - iou_score: 0.4940 - val_loss: 0.5059 - val_iou_score: 0.4941\n",
      "Epoch 66/100\n",
      "200/200 [==============================] - 64s 320ms/step - loss: 0.5059 - iou_score: 0.4941 - val_loss: 0.5059 - val_iou_score: 0.4941\n",
      "Epoch 67/100\n",
      "200/200 [==============================] - 64s 320ms/step - loss: 0.5058 - iou_score: 0.4942 - val_loss: 0.5058 - val_iou_score: 0.4942\n",
      "Epoch 68/100\n",
      "200/200 [==============================] - 64s 320ms/step - loss: 0.5058 - iou_score: 0.4942 - val_loss: 0.5057 - val_iou_score: 0.4943\n",
      "Epoch 69/100\n",
      "200/200 [==============================] - 64s 320ms/step - loss: 0.5057 - iou_score: 0.4943 - val_loss: 0.5057 - val_iou_score: 0.4943\n",
      "Epoch 70/100\n",
      "200/200 [==============================] - 64s 320ms/step - loss: 0.5056 - iou_score: 0.4944 - val_loss: 0.5056 - val_iou_score: 0.4944\n",
      "Epoch 71/100\n",
      "200/200 [==============================] - 64s 320ms/step - loss: 0.5056 - iou_score: 0.4944 - val_loss: 0.5056 - val_iou_score: 0.4944\n",
      "Epoch 72/100\n",
      "200/200 [==============================] - 64s 320ms/step - loss: 0.5055 - iou_score: 0.4945 - val_loss: 0.5055 - val_iou_score: 0.4945\n",
      "Epoch 73/100\n",
      "200/200 [==============================] - 64s 320ms/step - loss: 0.5054 - iou_score: 0.4946 - val_loss: 0.5055 - val_iou_score: 0.4945\n",
      "Epoch 74/100\n",
      "200/200 [==============================] - 64s 320ms/step - loss: 0.5054 - iou_score: 0.4946 - val_loss: 0.5054 - val_iou_score: 0.4946\n",
      "Epoch 75/100\n",
      "200/200 [==============================] - 64s 320ms/step - loss: 0.5053 - iou_score: 0.4947 - val_loss: 0.5053 - val_iou_score: 0.4947\n",
      "Epoch 76/100\n",
      "200/200 [==============================] - 64s 320ms/step - loss: 0.5053 - iou_score: 0.4947 - val_loss: 0.5053 - val_iou_score: 0.4947\n",
      "Epoch 77/100\n",
      "200/200 [==============================] - 64s 321ms/step - loss: 0.5052 - iou_score: 0.4948 - val_loss: 0.5052 - val_iou_score: 0.4948\n",
      "Epoch 78/100\n",
      "200/200 [==============================] - 64s 320ms/step - loss: 0.5052 - iou_score: 0.4948 - val_loss: 0.5051 - val_iou_score: 0.4949\n",
      "Epoch 79/100\n",
      "200/200 [==============================] - 64s 320ms/step - loss: 0.5051 - iou_score: 0.4949 - val_loss: 0.5051 - val_iou_score: 0.4949\n",
      "Epoch 80/100\n",
      "200/200 [==============================] - 64s 320ms/step - loss: 0.5051 - iou_score: 0.4949 - val_loss: 0.5051 - val_iou_score: 0.4949\n",
      "Epoch 81/100\n",
      "200/200 [==============================] - 64s 320ms/step - loss: 0.5050 - iou_score: 0.4950 - val_loss: 0.5050 - val_iou_score: 0.4950\n",
      "Epoch 82/100\n",
      "200/200 [==============================] - 64s 320ms/step - loss: 0.5050 - iou_score: 0.4950 - val_loss: 0.5049 - val_iou_score: 0.4951\n",
      "Epoch 83/100\n",
      "200/200 [==============================] - 64s 320ms/step - loss: 0.5049 - iou_score: 0.4951 - val_loss: 0.5049 - val_iou_score: 0.4951\n",
      "Epoch 84/100\n",
      "200/200 [==============================] - 64s 320ms/step - loss: 0.5049 - iou_score: 0.4951 - val_loss: 0.5049 - val_iou_score: 0.4951\n",
      "Epoch 85/100\n",
      "200/200 [==============================] - 64s 321ms/step - loss: 0.5048 - iou_score: 0.4952 - val_loss: 0.5048 - val_iou_score: 0.4952\n",
      "Epoch 86/100\n",
      "200/200 [==============================] - 64s 321ms/step - loss: 0.5048 - iou_score: 0.4952 - val_loss: 0.5048 - val_iou_score: 0.4952\n",
      "Epoch 87/100\n",
      "200/200 [==============================] - 64s 321ms/step - loss: 0.5047 - iou_score: 0.4953 - val_loss: 0.5047 - val_iou_score: 0.4953\n",
      "Epoch 88/100\n",
      "200/200 [==============================] - 64s 320ms/step - loss: 0.5047 - iou_score: 0.4953 - val_loss: 0.5047 - val_iou_score: 0.4953\n",
      "Epoch 89/100\n",
      "200/200 [==============================] - 64s 321ms/step - loss: 0.5047 - iou_score: 0.4953 - val_loss: 0.5046 - val_iou_score: 0.4954\n",
      "Epoch 90/100\n",
      "200/200 [==============================] - 64s 320ms/step - loss: 0.5046 - iou_score: 0.4954 - val_loss: 0.5046 - val_iou_score: 0.4954\n",
      "Epoch 91/100\n",
      "200/200 [==============================] - 64s 321ms/step - loss: 0.5046 - iou_score: 0.4954 - val_loss: 0.5046 - val_iou_score: 0.4954\n",
      "Epoch 92/100\n",
      "200/200 [==============================] - 64s 321ms/step - loss: 0.5045 - iou_score: 0.4955 - val_loss: 0.5045 - val_iou_score: 0.4955\n",
      "Epoch 93/100\n",
      "196/200 [============================>.] - ETA: 1s - loss: 0.5045 - iou_score: 0.4955"
     ]
    }
   ],
   "source": [
    "# def dice_coefficient(y_true, y_pred):\n",
    "#     numerator = 2 * tf.reduce_sum(y_true * y_pred)\n",
    "#     denominator = tf.reduce_sum(y_true + y_pred)\n",
    "#     return numerator / (denominator + tf.keras.backend.epsilon())\n",
    "\n",
    "# def loss(y_true, y_pred):\n",
    "#     return binary_crossentropy(y_true, y_pred) - tf.math.log(dice_coefficient(y_true, y_pred) + tf.keras.backend.epsilon())\n",
    "\n",
    "metrics = [sm.metrics.IOUScore(threshold=0.5), sm.metrics.FScore(threshold=0.5)]\n",
    "\n",
    "model.compile(optimizer='sgd', loss=sm.losses.JaccardLoss(), metrics=sm.metrics.IOUScore())\n",
    "model.fit(X_train,y_train_cat,batch_size=32,epochs=100,validation_data=(X_test, y_test_cat))"
   ]
  },
  {
   "cell_type": "code",
   "execution_count": null,
   "id": "e169a853",
   "metadata": {},
   "outputs": [],
   "source": [
    "model.save('resnet34_100epochs_128.tf')"
   ]
  },
  {
   "cell_type": "code",
   "execution_count": null,
   "id": "e41cd6b9",
   "metadata": {},
   "outputs": [],
   "source": [
    "from keras.layers import Input, Conv2D\n",
    "from keras.models import Model\n",
    "\n",
    "from tensorflow.keras.utils import get_file\n",
    "###Model 1\n",
    "BACKBONE1 =  'vgg19'\n",
    "preprocess_input1 = sm.get_preprocessing(BACKBONE1)\n",
    "\n",
    "# preprocess input\n",
    "X_train1 = preprocess_input1(X_train)\n",
    "X_test1 = preprocess_input1(X_test)\n",
    "\n",
    "random_state=0\n",
    "# define model\n",
    "model1 = sm.Unet(BACKBONE1, encoder_weights=None, classes=n_classes, activation=activation)\n",
    "\n",
    "# compile keras model with defined optimizer, loss and metrics\n",
    "model1.compile(optimizer=optim, loss=sm.losses.JaccardLoss(), metrics=sm.metrics.IOUScore())\n",
    "print(model1.summary())\n",
    "\n",
    "earlystopping = callbacks.EarlyStopping(monitor =\"val_loss\", mode =\"min\", patience = 5, restore_best_weights = True)\n",
    "\n",
    "import time\n",
    "from datetime import datetime\n",
    "start_time_resnet = datetime.now()\n",
    "print('Start Time: {}'.format(start_time_resnet))\n",
    "\n",
    "\n",
    "history1=model1.fit(X_train1, \n",
    "          y_train_cat,\n",
    "          batch_size=64, \n",
    "          epochs=200,\n",
    "          verbose=1,\n",
    "          validation_data=(X_test1, y_test_cat), callbacks=[earlystopping])\n",
    "\n",
    "end_time_resnet = datetime.now()\n",
    "print('End Time: {}'.format(end_time_resnet))\n",
    "print('Duration: {}'.format(end_time_resnet - start_time_resnet))"
   ]
  },
  {
   "cell_type": "code",
   "execution_count": null,
   "id": "d60747af",
   "metadata": {},
   "outputs": [],
   "source": [
    "model1.save('vgg19_200epochs128.tf')"
   ]
  },
  {
   "cell_type": "code",
   "execution_count": null,
   "id": "8be87c9b",
   "metadata": {},
   "outputs": [],
   "source": []
  }
 ],
 "metadata": {
  "environment": {
   "name": "tf2-gpu.2-3.m75",
   "type": "gcloud",
   "uri": "gcr.io/deeplearning-platform-release/tf2-gpu.2-3:m75"
  },
  "kernelspec": {
   "display_name": "Python 3",
   "language": "python",
   "name": "python3"
  },
  "language_info": {
   "codemirror_mode": {
    "name": "ipython",
    "version": 3
   },
   "file_extension": ".py",
   "mimetype": "text/x-python",
   "name": "python",
   "nbconvert_exporter": "python",
   "pygments_lexer": "ipython3",
   "version": "3.7.10"
  }
 },
 "nbformat": 4,
 "nbformat_minor": 5
}
